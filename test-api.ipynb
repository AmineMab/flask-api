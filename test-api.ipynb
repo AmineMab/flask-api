{
 "cells": [
  {
   "cell_type": "code",
   "execution_count": 2,
   "metadata": {},
   "outputs": [
    {
     "name": "stdout",
     "output_type": "stream",
     "text": [
      "{'label': 'LABEL_1'}\n"
     ]
    }
   ],
   "source": [
    "import requests\n",
    "import json\n",
    "\n",
    "# The endpoint of the API\n",
    "url = \"http://localhost:8000/predict\"\n",
    "\n",
    "# The text to classify\n",
    "text = \"This is an example text for classification.\"\n",
    "\n",
    "# Create a JSON payload with the text\n",
    "payload = {'text': text}\n",
    "\n",
    "# Send a POST request to the API\n",
    "response = requests.post(url, json=payload)\n",
    "\n",
    "# Print the response\n",
    "print(response.json())\n"
   ]
  },
  {
   "cell_type": "code",
   "execution_count": 1,
   "metadata": {},
   "outputs": [
    {
     "name": "stderr",
     "output_type": "stream",
     "text": [
      "2023-01-21 22:42:49.962 \n",
      "  \u001b[33m\u001b[1mWarning:\u001b[0m to view this Streamlit app on a browser, run it with the following\n",
      "  command:\n",
      "\n",
      "    streamlit run c:\\Users\\R21\\anaconda3\\envs\\dl\\lib\\site-packages\\ipykernel_launcher.py [ARGUMENTS]\n"
     ]
    }
   ],
   "source": [
    "import streamlit as st\n",
    "import requests\n",
    "\n",
    "# Define the endpoint\n",
    "endpoint = \"http://localhost:8000/predict\"\n",
    "\n",
    "# Create a text input\n",
    "text = st.text_input(\"Enter text to classify\")\n",
    "\n",
    "# Create a submit button\n",
    "if st.button(\"Submit\"):\n",
    "    # Send a POST request to the endpoint with the text\n",
    "    response = requests.post(endpoint, json={\"text\": text})\n",
    "    # Get the JSON response\n",
    "    response_json = response.json()\n",
    "    # Extract the label from the response\n",
    "    label = response_json[\"label\"]\n",
    "    # Display the label\n",
    "    st.success(f\"The predicted class is: {label}\")"
   ]
  }
 ],
 "metadata": {
  "kernelspec": {
   "display_name": "dl",
   "language": "python",
   "name": "python3"
  },
  "language_info": {
   "codemirror_mode": {
    "name": "ipython",
    "version": 3
   },
   "file_extension": ".py",
   "mimetype": "text/x-python",
   "name": "python",
   "nbconvert_exporter": "python",
   "pygments_lexer": "ipython3",
   "version": "3.8.0"
  },
  "orig_nbformat": 4,
  "vscode": {
   "interpreter": {
    "hash": "c0e2434964a70057e7f1b699838e8ed135497488d3c5c4287d64ea4c9c64d133"
   }
  }
 },
 "nbformat": 4,
 "nbformat_minor": 2
}
